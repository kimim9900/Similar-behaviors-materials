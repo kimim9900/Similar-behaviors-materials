{
  "nbformat": 4,
  "nbformat_minor": 0,
  "metadata": {
    "colab": {
      "provenance": [],
      "authorship_tag": "ABX9TyOqQn3+r9ApmYWYriwWKtFZ",
      "include_colab_link": true
    },
    "kernelspec": {
      "name": "python3",
      "display_name": "Python 3"
    },
    "language_info": {
      "name": "python"
    }
  },
  "cells": [
    {
      "cell_type": "markdown",
      "metadata": {
        "id": "view-in-github",
        "colab_type": "text"
      },
      "source": [
        "<a href=\"https://colab.research.google.com/github/kimim9900/Similar-behaviors-materials/blob/main/Similar_material_to_plastic_but_can_recycle.ipynb\" target=\"_parent\"><img src=\"https://colab.research.google.com/assets/colab-badge.svg\" alt=\"Open In Colab\"/></a>"
      ]
    },
    {
      "cell_type": "code",
      "execution_count": 6,
      "metadata": {
        "id": "AL7KLEXI5ODV"
      },
      "outputs": [],
      "source": [
        "import pandas as pd\n",
        "import matplotlib.pyplot as plt\n",
        "import tensorflow as tf\n",
        "# Goal is that it is recyclable plastic, and cheap, and has strong checmical compound like plastic do. \n",
        "# Another goal is after we found new compound and than we are going to find the condition for the recycle "
      ]
    },
    {
      "cell_type": "code",
      "source": [
        "Polyethylene_Terephthalate = [] \n",
        "# it is recycleable "
      ],
      "metadata": {
        "id": "oUHRN3MK5VXN"
      },
      "execution_count": 7,
      "outputs": []
    },
    {
      "cell_type": "code",
      "source": [
        "High_Density_Polyethylene  = []\n",
        "# also recyclable"
      ],
      "metadata": {
        "id": "yXWBQsaNA60a"
      },
      "execution_count": 9,
      "outputs": []
    },
    {
      "cell_type": "code",
      "source": [
        "Polypropylene = []\n"
      ],
      "metadata": {
        "id": "bN7dkrq5A-_C"
      },
      "execution_count": 11,
      "outputs": []
    },
    {
      "cell_type": "code",
      "source": [
        "Low_density_polyethylene = []"
      ],
      "metadata": {
        "id": "2hPZJx6-Dgu3"
      },
      "execution_count": 12,
      "outputs": []
    },
    {
      "cell_type": "code",
      "source": [],
      "metadata": {
        "id": "VtmMs5prDoS_"
      },
      "execution_count": null,
      "outputs": []
    }
  ]
}